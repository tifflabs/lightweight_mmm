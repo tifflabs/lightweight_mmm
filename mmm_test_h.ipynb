{
 "cells": [
  {
   "cell_type": "code",
   "execution_count": 1,
   "metadata": {},
   "outputs": [
    {
     "name": "stdout",
     "output_type": "stream",
     "text": [
      "Collecting lightweight_mmm==0.1.7\n",
      "  Using cached lightweight_mmm-0.1.7-py3-none-any.whl (103 kB)\n",
      "Collecting jax>=0.3.18\n",
      "  Using cached jax-0.4.6-py3-none-any.whl\n",
      "\u001b[31mERROR: Could not find a version that satisfies the requirement tensorflow>=2.7.2 (from lightweight-mmm) (from versions: none)\u001b[0m\u001b[31m\n",
      "\u001b[0m\u001b[31mERROR: No matching distribution found for tensorflow>=2.7.2\u001b[0m\u001b[31m\n",
      "\u001b[0mNote: you may need to restart the kernel to use updated packages.\n",
      "Collecting immutabledict\n",
      "  Using cached immutabledict-2.2.3-py3-none-any.whl (4.0 kB)\n",
      "Installing collected packages: immutabledict\n",
      "Successfully installed immutabledict-2.2.3\n",
      "Note: you may need to restart the kernel to use updated packages.\n",
      "Collecting numpyro\n",
      "  Using cached numpyro-0.11.0-py3-none-any.whl (300 kB)\n",
      "Collecting multipledispatch\n",
      "  Using cached multipledispatch-0.6.0-py3-none-any.whl (11 kB)\n",
      "Collecting numpy\n",
      "  Using cached numpy-1.24.2-cp310-cp310-macosx_11_0_arm64.whl (13.9 MB)\n",
      "Collecting jaxlib>=0.4\n",
      "  Using cached jaxlib-0.4.6-cp310-cp310-macosx_11_0_arm64.whl (53.2 MB)\n",
      "Requirement already satisfied: tqdm in /Users/tiffanyblakeney/miniforge3/lib/python3.10/site-packages (from numpyro) (4.65.0)\n",
      "Collecting jax>=0.4\n",
      "  Using cached jax-0.4.6-py3-none-any.whl\n",
      "Collecting scipy>=1.5\n",
      "  Using cached scipy-1.10.1-cp310-cp310-macosx_12_0_arm64.whl (28.8 MB)\n",
      "Collecting opt-einsum\n",
      "  Using cached opt_einsum-3.3.0-py3-none-any.whl (65 kB)\n",
      "Requirement already satisfied: six in /Users/tiffanyblakeney/miniforge3/lib/python3.10/site-packages (from multipledispatch->numpyro) (1.16.0)\n",
      "Installing collected packages: numpy, multipledispatch, scipy, opt-einsum, jaxlib, jax, numpyro\n",
      "Successfully installed jax-0.4.6 jaxlib-0.4.6 multipledispatch-0.6.0 numpy-1.24.2 numpyro-0.11.0 opt-einsum-3.3.0 scipy-1.10.1\n",
      "Note: you may need to restart the kernel to use updated packages.\n",
      "Collecting pandas\n",
      "  Using cached pandas-1.5.3-cp310-cp310-macosx_11_0_arm64.whl (10.9 MB)\n",
      "Requirement already satisfied: python-dateutil>=2.8.1 in /Users/tiffanyblakeney/miniforge3/lib/python3.10/site-packages (from pandas) (2.8.2)\n",
      "Collecting pytz>=2020.1\n",
      "  Using cached pytz-2023.2-py2.py3-none-any.whl (502 kB)\n",
      "Requirement already satisfied: numpy>=1.21.0 in /Users/tiffanyblakeney/miniforge3/lib/python3.10/site-packages (from pandas) (1.24.2)\n",
      "Requirement already satisfied: six>=1.5 in /Users/tiffanyblakeney/miniforge3/lib/python3.10/site-packages (from python-dateutil>=2.8.1->pandas) (1.16.0)\n",
      "Installing collected packages: pytz, pandas\n",
      "Successfully installed pandas-1.5.3 pytz-2023.2\n",
      "Note: you may need to restart the kernel to use updated packages.\n",
      "Collecting scikit-learn\n",
      "  Using cached scikit_learn-1.2.2-cp310-cp310-macosx_12_0_arm64.whl (8.5 MB)\n",
      "Collecting threadpoolctl>=2.0.0\n",
      "  Using cached threadpoolctl-3.1.0-py3-none-any.whl (14 kB)\n",
      "Requirement already satisfied: numpy>=1.17.3 in /Users/tiffanyblakeney/miniforge3/lib/python3.10/site-packages (from scikit-learn) (1.24.2)\n",
      "Requirement already satisfied: scipy>=1.3.2 in /Users/tiffanyblakeney/miniforge3/lib/python3.10/site-packages (from scikit-learn) (1.10.1)\n",
      "Collecting joblib>=1.1.1\n",
      "  Using cached joblib-1.2.0-py3-none-any.whl (297 kB)\n",
      "Installing collected packages: threadpoolctl, joblib, scikit-learn\n",
      "Successfully installed joblib-1.2.0 scikit-learn-1.2.2 threadpoolctl-3.1.0\n",
      "Note: you may need to restart the kernel to use updated packages.\n",
      "Collecting statsmodels\n",
      "  Using cached statsmodels-0.13.5-cp310-cp310-macosx_11_0_arm64.whl (9.2 MB)\n",
      "Requirement already satisfied: scipy>=1.3 in /Users/tiffanyblakeney/miniforge3/lib/python3.10/site-packages (from statsmodels) (1.10.1)\n",
      "Collecting patsy>=0.5.2\n",
      "  Using cached patsy-0.5.3-py2.py3-none-any.whl (233 kB)\n",
      "Requirement already satisfied: pandas>=0.25 in /Users/tiffanyblakeney/miniforge3/lib/python3.10/site-packages (from statsmodels) (1.5.3)\n",
      "Requirement already satisfied: numpy>=1.17 in /Users/tiffanyblakeney/miniforge3/lib/python3.10/site-packages (from statsmodels) (1.24.2)\n",
      "Requirement already satisfied: packaging>=21.3 in /Users/tiffanyblakeney/miniforge3/lib/python3.10/site-packages (from statsmodels) (23.0)\n",
      "Requirement already satisfied: pytz>=2020.1 in /Users/tiffanyblakeney/miniforge3/lib/python3.10/site-packages (from pandas>=0.25->statsmodels) (2023.2)\n",
      "Requirement already satisfied: python-dateutil>=2.8.1 in /Users/tiffanyblakeney/miniforge3/lib/python3.10/site-packages (from pandas>=0.25->statsmodels) (2.8.2)\n",
      "Requirement already satisfied: six in /Users/tiffanyblakeney/miniforge3/lib/python3.10/site-packages (from patsy>=0.5.2->statsmodels) (1.16.0)\n",
      "Installing collected packages: patsy, statsmodels\n",
      "Successfully installed patsy-0.5.3 statsmodels-0.13.5\n",
      "Note: you may need to restart the kernel to use updated packages.\n",
      "\u001b[31mERROR: Could not find a version that satisfies the requirement tensorflow==2.7.2 (from versions: none)\u001b[0m\u001b[31m\n",
      "\u001b[0m\u001b[31mERROR: No matching distribution found for tensorflow==2.7.2\u001b[0m\u001b[31m\n",
      "\u001b[0mNote: you may need to restart the kernel to use updated packages.\n",
      "Requirement already satisfied: jax in /Users/tiffanyblakeney/miniforge3/lib/python3.10/site-packages (0.4.6)\n",
      "Collecting jaxlib==0.4.2\n",
      "  Using cached jaxlib-0.4.2-cp310-cp310-macosx_11_0_arm64.whl (52.1 MB)\n",
      "Requirement already satisfied: numpy>=1.20 in /Users/tiffanyblakeney/miniforge3/lib/python3.10/site-packages (from jaxlib==0.4.2) (1.24.2)\n",
      "Requirement already satisfied: scipy>=1.5 in /Users/tiffanyblakeney/miniforge3/lib/python3.10/site-packages (from jaxlib==0.4.2) (1.10.1)\n",
      "Requirement already satisfied: opt-einsum in /Users/tiffanyblakeney/miniforge3/lib/python3.10/site-packages (from jax) (3.3.0)\n",
      "Installing collected packages: jaxlib\n",
      "  Attempting uninstall: jaxlib\n",
      "    Found existing installation: jaxlib 0.4.6\n",
      "    Uninstalling jaxlib-0.4.6:\n",
      "      Successfully uninstalled jaxlib-0.4.6\n",
      "Successfully installed jaxlib-0.4.2\n",
      "Note: you may need to restart the kernel to use updated packages.\n"
     ]
    }
   ],
   "source": [
    "##%pip install --upgrade pip\n",
    "\n",
    "%pip install lightweight_mmm==0.1.7\n",
    "%pip install immutabledict\n",
    "%pip install numpyro\n",
    "%pip install pandas\n",
    "%pip install scikit-learn\n",
    "%pip install statsmodels\n",
    "%pip install tensorflow==2.7.2\n",
    "%pip install jax jaxlib==0.4.2\n"
   ]
  },
  {
   "cell_type": "code",
   "execution_count": 1,
   "metadata": {},
   "outputs": [
    {
     "ename": "RuntimeError",
     "evalue": "jaxlib is version 0.4.2, but this version of jax requires version >= 0.4.4.",
     "output_type": "error",
     "traceback": [
      "\u001b[0;31m---------------------------------------------------------------------------\u001b[0m",
      "\u001b[0;31mRuntimeError\u001b[0m                              Traceback (most recent call last)",
      "Cell \u001b[0;32mIn[1], line 4\u001b[0m\n\u001b[1;32m      1\u001b[0m \u001b[39mimport\u001b[39;00m \u001b[39mpandas\u001b[39;00m \u001b[39mas\u001b[39;00m \u001b[39mpd\u001b[39;00m\n\u001b[0;32m----> 4\u001b[0m \u001b[39mimport\u001b[39;00m \u001b[39mjax\u001b[39;00m\u001b[39m.\u001b[39;00m\u001b[39mnumpy\u001b[39;00m \u001b[39mas\u001b[39;00m \u001b[39mjnp\u001b[39;00m\n\u001b[1;32m      5\u001b[0m \u001b[39mimport\u001b[39;00m \u001b[39mnumpyro\u001b[39;00m \u001b[39mas\u001b[39;00m \u001b[39mnp\u001b[39;00m\n",
      "File \u001b[0;32m~/miniforge3/envs/env_tf/lib/python3.10/site-packages/jax/__init__.py:35\u001b[0m\n\u001b[1;32m     30\u001b[0m \u001b[39mdel\u001b[39;00m _cloud_tpu_init\n\u001b[1;32m     32\u001b[0m \u001b[39m# Confusingly there are two things named \"config\": the module and the class.\u001b[39;00m\n\u001b[1;32m     33\u001b[0m \u001b[39m# We want the exported object to be the class, so we first import the module\u001b[39;00m\n\u001b[1;32m     34\u001b[0m \u001b[39m# to make sure a later import doesn't overwrite the class.\u001b[39;00m\n\u001b[0;32m---> 35\u001b[0m \u001b[39mfrom\u001b[39;00m \u001b[39mjax\u001b[39;00m \u001b[39mimport\u001b[39;00m config \u001b[39mas\u001b[39;00m _config_module\n\u001b[1;32m     36\u001b[0m \u001b[39mdel\u001b[39;00m _config_module\n\u001b[1;32m     38\u001b[0m \u001b[39m# Force early import, allowing use of `jax.core` after importing `jax`.\u001b[39;00m\n",
      "File \u001b[0;32m~/miniforge3/envs/env_tf/lib/python3.10/site-packages/jax/config.py:17\u001b[0m\n\u001b[1;32m      1\u001b[0m \u001b[39m# Copyright 2018 The JAX Authors.\u001b[39;00m\n\u001b[1;32m      2\u001b[0m \u001b[39m#\u001b[39;00m\n\u001b[1;32m      3\u001b[0m \u001b[39m# Licensed under the Apache License, Version 2.0 (the \"License\");\u001b[39;00m\n\u001b[0;32m   (...)\u001b[0m\n\u001b[1;32m     14\u001b[0m \n\u001b[1;32m     15\u001b[0m \u001b[39m# TODO(phawkins): fix users of this alias and delete this file.\u001b[39;00m\n\u001b[0;32m---> 17\u001b[0m \u001b[39mfrom\u001b[39;00m \u001b[39mjax\u001b[39;00m\u001b[39m.\u001b[39;00m\u001b[39m_src\u001b[39;00m\u001b[39m.\u001b[39;00m\u001b[39mconfig\u001b[39;00m \u001b[39mimport\u001b[39;00m config  \u001b[39m# noqa: F401\u001b[39;00m\n",
      "File \u001b[0;32m~/miniforge3/envs/env_tf/lib/python3.10/site-packages/jax/_src/config.py:25\u001b[0m\n\u001b[1;32m     22\u001b[0m \u001b[39mimport\u001b[39;00m \u001b[39mwarnings\u001b[39;00m\n\u001b[1;32m     23\u001b[0m \u001b[39mfrom\u001b[39;00m \u001b[39mtyping\u001b[39;00m \u001b[39mimport\u001b[39;00m Any, List, Callable, Hashable, NamedTuple, Iterator, Optional\n\u001b[0;32m---> 25\u001b[0m \u001b[39mfrom\u001b[39;00m \u001b[39mjax\u001b[39;00m\u001b[39m.\u001b[39;00m\u001b[39m_src\u001b[39;00m \u001b[39mimport\u001b[39;00m lib\n\u001b[1;32m     26\u001b[0m \u001b[39mfrom\u001b[39;00m \u001b[39mjax\u001b[39;00m\u001b[39m.\u001b[39;00m\u001b[39m_src\u001b[39;00m\u001b[39m.\u001b[39;00m\u001b[39mlib\u001b[39;00m \u001b[39mimport\u001b[39;00m jax_jit\n\u001b[1;32m     27\u001b[0m \u001b[39mfrom\u001b[39;00m \u001b[39mjax\u001b[39;00m\u001b[39m.\u001b[39;00m\u001b[39m_src\u001b[39;00m\u001b[39m.\u001b[39;00m\u001b[39mlib\u001b[39;00m \u001b[39mimport\u001b[39;00m transfer_guard_lib\n",
      "File \u001b[0;32m~/miniforge3/envs/env_tf/lib/python3.10/site-packages/jax/_src/lib/__init__.py:74\u001b[0m\n\u001b[1;32m     71\u001b[0m   \u001b[39mreturn\u001b[39;00m _jaxlib_version\n\u001b[1;32m     73\u001b[0m version_str \u001b[39m=\u001b[39m jaxlib\u001b[39m.\u001b[39mversion\u001b[39m.\u001b[39m__version__\n\u001b[0;32m---> 74\u001b[0m version \u001b[39m=\u001b[39m check_jaxlib_version(\n\u001b[1;32m     75\u001b[0m   jax_version\u001b[39m=\u001b[39;49mjax\u001b[39m.\u001b[39;49mversion\u001b[39m.\u001b[39;49m__version__,\n\u001b[1;32m     76\u001b[0m   jaxlib_version\u001b[39m=\u001b[39;49mjaxlib\u001b[39m.\u001b[39;49mversion\u001b[39m.\u001b[39;49m__version__,\n\u001b[1;32m     77\u001b[0m   minimum_jaxlib_version\u001b[39m=\u001b[39;49mjax\u001b[39m.\u001b[39;49mversion\u001b[39m.\u001b[39;49m_minimum_jaxlib_version)\n\u001b[1;32m     81\u001b[0m \u001b[39m# Before importing any C compiled modules from jaxlib, first import the CPU\u001b[39;00m\n\u001b[1;32m     82\u001b[0m \u001b[39m# feature guard module to verify that jaxlib was compiled in a way that only\u001b[39;00m\n\u001b[1;32m     83\u001b[0m \u001b[39m# uses instructions that are present on this machine.\u001b[39;00m\n\u001b[1;32m     84\u001b[0m \u001b[39mimport\u001b[39;00m \u001b[39mjaxlib\u001b[39;00m\u001b[39m.\u001b[39;00m\u001b[39mcpu_feature_guard\u001b[39;00m \u001b[39mas\u001b[39;00m \u001b[39mcpu_feature_guard\u001b[39;00m\n",
      "File \u001b[0;32m~/miniforge3/envs/env_tf/lib/python3.10/site-packages/jax/_src/lib/__init__.py:63\u001b[0m, in \u001b[0;36mcheck_jaxlib_version\u001b[0;34m(jax_version, jaxlib_version, minimum_jaxlib_version)\u001b[0m\n\u001b[1;32m     60\u001b[0m \u001b[39mif\u001b[39;00m _jaxlib_version \u001b[39m<\u001b[39m _minimum_jaxlib_version:\n\u001b[1;32m     61\u001b[0m   msg \u001b[39m=\u001b[39m (\u001b[39mf\u001b[39m\u001b[39m'\u001b[39m\u001b[39mjaxlib is version \u001b[39m\u001b[39m{\u001b[39;00mjaxlib_version\u001b[39m}\u001b[39;00m\u001b[39m, but this version \u001b[39m\u001b[39m'\u001b[39m\n\u001b[1;32m     62\u001b[0m          \u001b[39mf\u001b[39m\u001b[39m'\u001b[39m\u001b[39mof jax requires version >= \u001b[39m\u001b[39m{\u001b[39;00mminimum_jaxlib_version\u001b[39m}\u001b[39;00m\u001b[39m.\u001b[39m\u001b[39m'\u001b[39m)\n\u001b[0;32m---> 63\u001b[0m   \u001b[39mraise\u001b[39;00m \u001b[39mRuntimeError\u001b[39;00m(msg)\n\u001b[1;32m     65\u001b[0m \u001b[39mif\u001b[39;00m _jaxlib_version \u001b[39m>\u001b[39m _jax_version:\n\u001b[1;32m     66\u001b[0m   msg \u001b[39m=\u001b[39m (\u001b[39mf\u001b[39m\u001b[39m'\u001b[39m\u001b[39mjaxlib version \u001b[39m\u001b[39m{\u001b[39;00mjaxlib_version\u001b[39m}\u001b[39;00m\u001b[39m is newer than and \u001b[39m\u001b[39m'\u001b[39m\n\u001b[1;32m     67\u001b[0m          \u001b[39mf\u001b[39m\u001b[39m'\u001b[39m\u001b[39mincompatible with jax version \u001b[39m\u001b[39m{\u001b[39;00mjax_version\u001b[39m}\u001b[39;00m\u001b[39m. Please \u001b[39m\u001b[39m'\u001b[39m\n\u001b[1;32m     68\u001b[0m          \u001b[39m'\u001b[39m\u001b[39mupdate your jax and/or jaxlib packages.\u001b[39m\u001b[39m'\u001b[39m)\n",
      "\u001b[0;31mRuntimeError\u001b[0m: jaxlib is version 0.4.2, but this version of jax requires version >= 0.4.4."
     ]
    }
   ],
   "source": [
    "import pandas as pd\n",
    "\n",
    "\n",
    "import jax.numpy as jnp\n",
    "import numpyro as np"
   ]
  },
  {
   "cell_type": "code",
   "execution_count": 1,
   "metadata": {},
   "outputs": [
    {
     "ename": "RuntimeError",
     "evalue": "This version of jaxlib was built using AVX instructions, which your CPU and/or operating system do not support. You may be able work around this issue by building jaxlib from source.",
     "output_type": "error",
     "traceback": [
      "\u001b[0;31m---------------------------------------------------------------------------\u001b[0m",
      "\u001b[0;31mRuntimeError\u001b[0m                              Traceback (most recent call last)",
      "Cell \u001b[0;32mIn[1], line 2\u001b[0m\n\u001b[1;32m      1\u001b[0m \u001b[39m#Import the relevant modules of the library\u001b[39;00m\n\u001b[0;32m----> 2\u001b[0m \u001b[39mfrom\u001b[39;00m \u001b[39mlightweight_mmm\u001b[39;00m \u001b[39mimport\u001b[39;00m lightweight_mmm\n\u001b[1;32m      3\u001b[0m \u001b[39mfrom\u001b[39;00m \u001b[39mlightweight_mmm\u001b[39;00m \u001b[39mimport\u001b[39;00m optimize_media\n\u001b[1;32m      4\u001b[0m \u001b[39mfrom\u001b[39;00m \u001b[39mlightweight_mmm\u001b[39;00m \u001b[39mimport\u001b[39;00m plot\n",
      "File \u001b[0;32m~/.pyenv/versions/3.9.2/lib/python3.9/site-packages/lightweight_mmm/lightweight_mmm.py:46\u001b[0m\n\u001b[1;32m     44\u001b[0m \u001b[39mfrom\u001b[39;00m \u001b[39mabsl\u001b[39;00m \u001b[39mimport\u001b[39;00m logging\n\u001b[1;32m     45\u001b[0m \u001b[39mimport\u001b[39;00m \u001b[39mimmutabledict\u001b[39;00m\n\u001b[0;32m---> 46\u001b[0m \u001b[39mimport\u001b[39;00m \u001b[39mjax\u001b[39;00m\n\u001b[1;32m     47\u001b[0m \u001b[39mimport\u001b[39;00m \u001b[39mjax\u001b[39;00m\u001b[39m.\u001b[39;00m\u001b[39mnumpy\u001b[39;00m \u001b[39mas\u001b[39;00m \u001b[39mjnp\u001b[39;00m\n\u001b[1;32m     48\u001b[0m \u001b[39mimport\u001b[39;00m \u001b[39mnumpy\u001b[39;00m \u001b[39mas\u001b[39;00m \u001b[39mnp\u001b[39;00m\n",
      "File \u001b[0;32m~/.pyenv/versions/3.9.2/lib/python3.9/site-packages/jax/__init__.py:35\u001b[0m\n\u001b[1;32m     30\u001b[0m \u001b[39mdel\u001b[39;00m _cloud_tpu_init\n\u001b[1;32m     32\u001b[0m \u001b[39m# Confusingly there are two things named \"config\": the module and the class.\u001b[39;00m\n\u001b[1;32m     33\u001b[0m \u001b[39m# We want the exported object to be the class, so we first import the module\u001b[39;00m\n\u001b[1;32m     34\u001b[0m \u001b[39m# to make sure a later import doesn't overwrite the class.\u001b[39;00m\n\u001b[0;32m---> 35\u001b[0m \u001b[39mfrom\u001b[39;00m \u001b[39mjax\u001b[39;00m \u001b[39mimport\u001b[39;00m config \u001b[39mas\u001b[39;00m _config_module\n\u001b[1;32m     36\u001b[0m \u001b[39mdel\u001b[39;00m _config_module\n\u001b[1;32m     38\u001b[0m \u001b[39m# Force early import, allowing use of `jax.core` after importing `jax`.\u001b[39;00m\n",
      "File \u001b[0;32m~/.pyenv/versions/3.9.2/lib/python3.9/site-packages/jax/config.py:17\u001b[0m\n\u001b[1;32m      1\u001b[0m \u001b[39m# Copyright 2018 The JAX Authors.\u001b[39;00m\n\u001b[1;32m      2\u001b[0m \u001b[39m#\u001b[39;00m\n\u001b[1;32m      3\u001b[0m \u001b[39m# Licensed under the Apache License, Version 2.0 (the \"License\");\u001b[39;00m\n\u001b[0;32m   (...)\u001b[0m\n\u001b[1;32m     14\u001b[0m \n\u001b[1;32m     15\u001b[0m \u001b[39m# TODO(phawkins): fix users of this alias and delete this file.\u001b[39;00m\n\u001b[0;32m---> 17\u001b[0m \u001b[39mfrom\u001b[39;00m \u001b[39mjax\u001b[39;00m\u001b[39m.\u001b[39;00m\u001b[39m_src\u001b[39;00m\u001b[39m.\u001b[39;00m\u001b[39mconfig\u001b[39;00m \u001b[39mimport\u001b[39;00m config  \u001b[39m# noqa: F401\u001b[39;00m\n",
      "File \u001b[0;32m~/.pyenv/versions/3.9.2/lib/python3.9/site-packages/jax/_src/config.py:28\u001b[0m\n\u001b[1;32m     25\u001b[0m \u001b[39mimport\u001b[39;00m \u001b[39mwarnings\u001b[39;00m\n\u001b[1;32m     26\u001b[0m \u001b[39mfrom\u001b[39;00m \u001b[39mtyping\u001b[39;00m \u001b[39mimport\u001b[39;00m Any, List, Callable, Hashable, NamedTuple, Iterator, Optional\n\u001b[0;32m---> 28\u001b[0m \u001b[39mfrom\u001b[39;00m \u001b[39mjax\u001b[39;00m\u001b[39m.\u001b[39;00m\u001b[39m_src\u001b[39;00m \u001b[39mimport\u001b[39;00m lib\n\u001b[1;32m     29\u001b[0m \u001b[39mfrom\u001b[39;00m \u001b[39mjax\u001b[39;00m\u001b[39m.\u001b[39;00m\u001b[39m_src\u001b[39;00m\u001b[39m.\u001b[39;00m\u001b[39mlib\u001b[39;00m \u001b[39mimport\u001b[39;00m jax_jit\n\u001b[1;32m     30\u001b[0m \u001b[39mfrom\u001b[39;00m \u001b[39mjax\u001b[39;00m\u001b[39m.\u001b[39;00m\u001b[39m_src\u001b[39;00m\u001b[39m.\u001b[39;00m\u001b[39mlib\u001b[39;00m \u001b[39mimport\u001b[39;00m transfer_guard_lib\n",
      "File \u001b[0;32m~/.pyenv/versions/3.9.2/lib/python3.9/site-packages/jax/_src/lib/__init__.py:85\u001b[0m\n\u001b[1;32m     81\u001b[0m \u001b[39m# Before importing any C compiled modules from jaxlib, first import the CPU\u001b[39;00m\n\u001b[1;32m     82\u001b[0m \u001b[39m# feature guard module to verify that jaxlib was compiled in a way that only\u001b[39;00m\n\u001b[1;32m     83\u001b[0m \u001b[39m# uses instructions that are present on this machine.\u001b[39;00m\n\u001b[1;32m     84\u001b[0m \u001b[39mimport\u001b[39;00m \u001b[39mjaxlib\u001b[39;00m\u001b[39m.\u001b[39;00m\u001b[39mcpu_feature_guard\u001b[39;00m \u001b[39mas\u001b[39;00m \u001b[39mcpu_feature_guard\u001b[39;00m\n\u001b[0;32m---> 85\u001b[0m cpu_feature_guard\u001b[39m.\u001b[39;49mcheck_cpu_features()\n\u001b[1;32m     87\u001b[0m \u001b[39mimport\u001b[39;00m \u001b[39mjaxlib\u001b[39;00m\u001b[39m.\u001b[39;00m\u001b[39mxla_client\u001b[39;00m \u001b[39mas\u001b[39;00m \u001b[39mxla_client\u001b[39;00m\n\u001b[1;32m     88\u001b[0m \u001b[39mimport\u001b[39;00m \u001b[39mjaxlib\u001b[39;00m\u001b[39m.\u001b[39;00m\u001b[39mlapack\u001b[39;00m \u001b[39mas\u001b[39;00m \u001b[39mlapack\u001b[39;00m\n",
      "\u001b[0;31mRuntimeError\u001b[0m: This version of jaxlib was built using AVX instructions, which your CPU and/or operating system do not support. You may be able work around this issue by building jaxlib from source."
     ]
    }
   ],
   "source": [
    "#Import the relevant modules of the library\n",
    "from lightweight_mmm import lightweight_mmm\n",
    "from lightweight_mmm import optimize_media\n",
    "from lightweight_mmm import plot\n",
    "from lightweight_mmm import preprocessing\n",
    "from lightweight_mmm import utils"
   ]
  },
  {
   "cell_type": "code",
   "execution_count": 5,
   "metadata": {},
   "outputs": [],
   "source": [
    "from sklearn.metrics import mean_absolute_percentage_error\n",
    "\n",
    "#Read the data\n",
    "##%pip install openpyxl\n",
    "data = pd.read_excel('~/Downloads/mmm_data_clean_5.xlsx', sheet_name='mmm', header=0, index_col=0, keep_default_na=True)\n",
    "\n"
   ]
  },
  {
   "cell_type": "code",
   "execution_count": 6,
   "metadata": {},
   "outputs": [
    {
     "name": "stdout",
     "output_type": "stream",
     "text": [
      "channel     acquisition_other   apple  fb_prospecting_on  fb_prospecting_show  \\\n",
      "date                                                                            \n",
      "2021-01-01             598530   60923            3482523               976030   \n",
      "2021-01-02             761297   51507            3403410               798985   \n",
      "2021-01-03             678038   40848            4087272               847934   \n",
      "2021-01-04             570207   31585            4144285               808242   \n",
      "2021-01-05             634261   24570            3248295               562217   \n",
      "...                       ...     ...                ...                  ...   \n",
      "2023-02-24            7271341  165651             912179              1155161   \n",
      "2023-02-25            9588998  225487             839075              1139282   \n",
      "2023-02-26            9617258  225451             857587              1080460   \n",
      "2023-02-27            8006365  122862             861409              1097287   \n",
      "2023-02-28            6876232  176580             898752              1086012   \n",
      "\n",
      "channel     fb_retargeting  google_brand  google_non_brand  \n",
      "date                                                        \n",
      "2021-01-01          211224         33648            550952  \n",
      "2021-01-02          217075         27247            589601  \n",
      "2021-01-03          235631         28750            453610  \n",
      "2021-01-04          235556         26826            329663  \n",
      "2021-01-05          194402         23992            328587  \n",
      "...                    ...           ...               ...  \n",
      "2023-02-24          346003         22180            781254  \n",
      "2023-02-25          322942         23247            841169  \n",
      "2023-02-26          330322         22253            834646  \n",
      "2023-02-27          337706         20748            831060  \n",
      "2023-02-28          324689         21240            775243  \n",
      "\n",
      "[789 rows x 7 columns]\n"
     ]
    }
   ],
   "source": [
    "#Group data and create variables\n",
    "agg_data = data.groupby([\"date\",\"channel\"])[[\"impressions\",\"spend\", \"conversions\",]].sum()\n",
    "\n",
    "\n",
    "#Create data variables and remove zeros\n",
    "media_data_raw = agg_data['impressions'].unstack().fillna(0)\n",
    "costs_raw = agg_data['spend'].unstack()\n",
    "sales_raw = agg_data['conversions'].groupby(\"date\").sum()\n",
    "\n",
    "print(media_data_raw)"
   ]
  },
  {
   "cell_type": "code",
   "execution_count": 7,
   "metadata": {},
   "outputs": [
    {
     "name": "stderr",
     "output_type": "stream",
     "text": [
      "<ipython-input-7-ec55a25fb4e2>:4: FutureWarning: The default value of numeric_only in DataFrame.corr is deprecated. In a future version, it will default to False. Select only valid columns or specify the value of numeric_only to silence this warning.\n",
      "  corr =(data.corr())\n"
     ]
    },
    {
     "data": {
      "text/plain": [
       "<Axes: >"
      ]
     },
     "execution_count": 7,
     "metadata": {},
     "output_type": "execute_result"
    },
    {
     "data": {
      "image/png": "[encoded data removed]",
      "text/plain": [
       "<Figure size 432x288 with 2 Axes>"
      ]
     },
     "metadata": {
      "needs_background": "light"
     },
     "output_type": "display_data"
    }
   ],
   "source": [
    "##Check data quality\n",
    "##%pip install seaborn\n",
    "import seaborn as sb\n",
    "corr =(data.corr())\n",
    "sb.heatmap(corr, cmap=\"Blues\", annot=True)"
   ]
  },
  {
   "cell_type": "code",
   "execution_count": 8,
   "metadata": {},
   "outputs": [],
   "source": [
    "##Splitting data intoi train and test\n",
    "\n",
    "split_point = pd.Timestamp(\"2023-01-01\") # 28 days to end of data\n",
    "\n",
    "media_data_train = media_data_raw.loc[:split_point - pd.Timedelta(1,'D')]\n",
    "media_data_test = media_data_raw.loc[split_point:]\n",
    "\n",
    "target_train = sales_raw.loc[:split_point - pd.Timedelta(1,'D')]\n",
    "target_test = sales_raw.loc[split_point:]\n",
    "\n",
    "costs_train = costs_raw.loc[:split_point - pd.Timedelta(1,'D')].sum(axis=0).loc[media_data_train.columns]"
   ]
  },
  {
   "cell_type": "code",
   "execution_count": 9,
   "metadata": {},
   "outputs": [
    {
     "name": "stdout",
     "output_type": "stream",
     "text": [
      "channel     acquisition_other   apple  fb_prospecting_on  fb_prospecting_show  \\\n",
      "date                                                                            \n",
      "2021-01-01             598530   60923            3482523               976030   \n",
      "2021-01-02             761297   51507            3403410               798985   \n",
      "2021-01-03             678038   40848            4087272               847934   \n",
      "2021-01-04             570207   31585            4144285               808242   \n",
      "2021-01-05             634261   24570            3248295               562217   \n",
      "...                       ...     ...                ...                  ...   \n",
      "2022-12-27           21004434  182480             443985              1145605   \n",
      "2022-12-28           24860217  166066             385454               980874   \n",
      "2022-12-29           24418894  155099             433129              1039710   \n",
      "2022-12-30           24914605  163837             398809              1011416   \n",
      "2022-12-31           23754075  157656             444141              1097695   \n",
      "\n",
      "channel     fb_retargeting  google_brand  google_non_brand  \n",
      "date                                                        \n",
      "2021-01-01          211224         33648            550952  \n",
      "2021-01-02          217075         27247            589601  \n",
      "2021-01-03          235631         28750            453610  \n",
      "2021-01-04          235556         26826            329663  \n",
      "2021-01-05          194402         23992            328587  \n",
      "...                    ...           ...               ...  \n",
      "2022-12-27          232756         23222            808338  \n",
      "2022-12-28          206864         22830            938361  \n",
      "2022-12-29          199887         24523            878859  \n",
      "2022-12-30          198886         22893            875612  \n",
      "2022-12-31          206549         26675           1058615  \n",
      "\n",
      "[730 rows x 7 columns]\n",
      "channel\n",
      "acquisition_other      20316954\n",
      "apple                   4119307\n",
      "fb_prospecting_on      15759271\n",
      "fb_prospecting_show     7611210\n",
      "fb_retargeting          4880082\n",
      "google_brand            9832419\n",
      "google_non_brand       39629304\n",
      "dtype: int64\n",
      "date\n",
      "2021-01-01    150912\n",
      "2021-01-02    113521\n",
      "2021-01-03    131169\n",
      "2021-01-04     95575\n",
      "2021-01-05     90404\n",
      "               ...  \n",
      "2022-12-27     29334\n",
      "2022-12-28     23669\n",
      "2022-12-29     25733\n",
      "2022-12-30     24721\n",
      "2022-12-31     27310\n",
      "Name: conversions, Length: 730, dtype: int64\n"
     ]
    }
   ],
   "source": [
    "#Check data\n",
    "print(media_data_train)\n",
    "print(costs_train)\n",
    "print(target_train)"
   ]
  },
  {
   "cell_type": "code",
   "execution_count": 10,
   "metadata": {},
   "outputs": [
    {
     "name": "stdout",
     "output_type": "stream",
     "text": [
      "            organic_search  organic_social\n",
      "date                                      \n",
      "2021-01-01         35164.2         47630.2\n",
      "2021-01-02         41169.1         25040.1\n",
      "2021-01-03         43204.9         41636.9\n",
      "2021-01-04         49140.5        100746.5\n",
      "2021-01-05         51572.4        103191.4\n",
      "...                    ...             ...\n",
      "2023-02-24         60457.6         55825.6\n",
      "2023-02-25         83850.6         55683.6\n",
      "2023-02-26         29569.1         28426.1\n",
      "2023-02-27         96051.1         88359.1\n",
      "2023-02-28         32852.9         21368.9\n",
      "\n",
      "[789 rows x 2 columns]\n"
     ]
    }
   ],
   "source": [
    "##Create simulated organic traffic as extra feature. \n",
    "#Using organic data as extra features can give you a more accurate view of paid media effects.\n",
    "\n",
    "import numpy as np\n",
    "organic_raw = pd.DataFrame({'organic_search': 0, 'organic_social': 0}, index=media_data_raw.index)\n",
    "organic_raw['organic_search'] = sales_raw.values/10 + np.random.randint(10000, 100000, organic_raw.shape[0])\n",
    "organic_raw['organic_social'] = sales_raw.values/10 + np.random.randint(10000, 100000, organic_raw.shape[0])\n",
    "print(organic_raw)"
   ]
  },
  {
   "cell_type": "code",
   "execution_count": 11,
   "metadata": {},
   "outputs": [
    {
     "ename": "NameError",
     "evalue": "name 'preprocessing' is not defined",
     "output_type": "error",
     "traceback": [
      "\u001b[0;31m---------------------------------------------------------------------------\u001b[0m",
      "\u001b[0;31mNameError\u001b[0m                                 Traceback (most recent call last)",
      "Cell \u001b[0;32mIn[11], line 15\u001b[0m\n\u001b[1;32m     11\u001b[0m target_test \u001b[39m=\u001b[39m sales_raw\u001b[39m.\u001b[39mloc[split_point:]\n\u001b[1;32m     13\u001b[0m costs_train \u001b[39m=\u001b[39m costs_raw\u001b[39m.\u001b[39mloc[:split_point \u001b[39m-\u001b[39m pd\u001b[39m.\u001b[39mTimedelta(\u001b[39m1\u001b[39m,\u001b[39m'\u001b[39m\u001b[39mD\u001b[39m\u001b[39m'\u001b[39m)]\u001b[39m.\u001b[39msum(axis\u001b[39m=\u001b[39m\u001b[39m0\u001b[39m)\u001b[39m.\u001b[39mloc[media_data_train\u001b[39m.\u001b[39mcolumns]\n\u001b[0;32m---> 15\u001b[0m media_scaler \u001b[39m=\u001b[39m preprocessing\u001b[39m.\u001b[39mCustomScaler(divide_operation\u001b[39m=\u001b[39mjnp\u001b[39m.\u001b[39mmean)\n\u001b[1;32m     16\u001b[0m organic_scaler \u001b[39m=\u001b[39m preprocessing\u001b[39m.\u001b[39mCustomScaler(divide_operation\u001b[39m=\u001b[39mjnp\u001b[39m.\u001b[39mmean)\n\u001b[1;32m     17\u001b[0m target_scaler \u001b[39m=\u001b[39m preprocessing\u001b[39m.\u001b[39mCustomScaler(\n\u001b[1;32m     18\u001b[0m     divide_operation\u001b[39m=\u001b[39mjnp\u001b[39m.\u001b[39mmean)\n",
      "\u001b[0;31mNameError\u001b[0m: name 'preprocessing' is not defined"
     ]
    }
   ],
   "source": [
    "##Scaling data\n",
    "split_point = pd.Timestamp(\"2023-02-01\") # 28 days to end of data\n",
    "\n",
    "media_data_train = media_data_raw.loc[:split_point - pd.Timedelta(1,'D')]\n",
    "media_data_test = media_data_raw.loc[split_point:]\n",
    "\n",
    "organic_data_train = organic_raw.loc[:split_point - pd.Timedelta(1,'D')]\n",
    "organic_data_test = organic_raw.loc[split_point:]\n",
    "\n",
    "target_train = sales_raw.loc[:split_point - pd.Timedelta(1,'D')]\n",
    "target_test = sales_raw.loc[split_point:]\n",
    "\n",
    "costs_train = costs_raw.loc[:split_point - pd.Timedelta(1,'D')].sum(axis=0).loc[media_data_train.columns]\n",
    "\n",
    "media_scaler = preprocessing.CustomScaler(divide_operation=jnp.mean)\n",
    "organic_scaler = preprocessing.CustomScaler(divide_operation=jnp.mean)\n",
    "target_scaler = preprocessing.CustomScaler(\n",
    "    divide_operation=jnp.mean)\n",
    "cost_scaler = preprocessing.CustomScaler(divide_operation=jnp.mean)\n",
    "\n",
    "media_data_train_scaled = media_scaler.fit_transform(media_data_train.values)\n",
    "organic_data_train_scaled = organic_scaler.fit_transform(organic_data_train.values)\n",
    "target_train_scaled = target_scaler.fit_transform(target_train.values.squeeze())\n",
    "costs_scaled = cost_scaler.fit_transform(costs_train.values)\n",
    "\n",
    "media_data_test_scaled = media_scaler.transform(media_data_test.values)\n",
    "organic_data_test_scaled = organic_scaler.transform(organic_data_test.values)\n",
    "\n",
    "media_names = media_data_raw.columns\n",
    "TF_CPP_MIN_LOG_LEVEL=0"
   ]
  },
  {
   "cell_type": "code",
   "execution_count": null,
   "metadata": {},
   "outputs": [],
   "source": [
    "##Finding the right hyper-parameters\n",
    "\n",
    "adstock_models = [\"adstock\", \"hill_adstock\", \"carryover\"]\n",
    "degrees_season = [1,2,3]\n",
    "\n",
    "##Narrowing down hyper params\n",
    "adstock_models = [\"hill_adstock\"]\n",
    "degrees_season = [1]\n",
    "\n",
    "##A simple loop was added to do a tiny grid search to find the best value\n",
    "#for two parameters: the adstock transformation and degrees of seasonality. \n",
    "#We can ad all models but model will run significantly slower.\n",
    "\n",
    "for model_name in adstock_models: \n",
    "    for degrees in degrees_season:\n",
    "        mmm = lightweight_mmm.LightweightMMM(model_name=model_name)\n",
    "        mmm.fit(\n",
    "            media=media_data_train_scaled,\n",
    "            media_prior=costs_scaled,\n",
    "            target=target_train_scaled,\n",
    "            extra_features=organic_data_train_scaled,\n",
    "            number_warmup=1000,\n",
    "            number_samples=1000,\n",
    "            number_chains=1,\n",
    "            degrees_seasonality=degrees,\n",
    "            weekday_seasonality=True,\n",
    "            seasonality_frequency=365,\n",
    "            seed=1)\n",
    "    \n",
    "    prediction = mmm.predict(\n",
    "    media=media_data_test_scaled,\n",
    "    extra_features=organic_data_test_scaled,\n",
    "    target_scaler=target_scaler)\n",
    "    p = prediction.mean(axis=0)\n",
    "\n",
    "    mape = mean_absolute_percentage_error(target_test.values, p)\n",
    "    print(f\"model_name={model_name} degrees={degrees} MAPE={mape} samples={p[:3]}\")"
   ]
  },
  {
   "cell_type": "code",
   "execution_count": null,
   "metadata": {},
   "outputs": [],
   "source": [
    "##Model diagnostics Convergence Check\n",
    "mmm.print_summary()\n",
    "##Fitting check\n",
    "plot.plot_model_fit(media_mix_model=mmm, target_scaler=target_scaler)\n",
    "#Predictive check\n",
    "prediction = mmm.predict(\n",
    "    media=media_data_test,\n",
    "    #extra_features=organic_data_test[-1:, :],\n",
    "    target_scaler=target_scaler\n",
    ")\n"
   ]
  },
  {
   "cell_type": "code",
   "execution_count": null,
   "metadata": {},
   "outputs": [],
   "source": [
    "#Retraining LightweightMMM --using all data not sampled\n",
    "costs = costs_raw.sum(axis=0).loc[media_names]\n",
    "\n",
    "media_scaler2 = preprocessing.CustomScaler(divide_operation=jnp.mean)\n",
    "organic_scaler2 = preprocessing.CustomScaler(divide_operation=jnp.mean)\n",
    "target_scaler2 = preprocessing.CustomScaler(\n",
    "    divide_operation=jnp.mean)\n",
    "cost_scaler2 = preprocessing.CustomScaler(divide_operation=jnp.mean)\n",
    "\n",
    "media_data_scaled = media_scaler2.fit_transform(media_data_raw.values)\n",
    "organic_data_scaled = organic_scaler2.fit_transform(organic_raw.values)\n",
    "target_scaled = target_scaler2.fit_transform(sales_raw.values)\n",
    "costs_scaled2 = cost_scaler2.fit_transform(costs.values)\n",
    "\n",
    "media_names = media_data_raw.columns\n",
    "\n",
    "mmm = lightweight_mmm.LightweightMMM(model_name=\"hill_adstock\")\n",
    "mmm.fit(media=media_data_scaled,\n",
    "        media_prior=costs_scaled2,\n",
    "        extra_features=organic_data_scaled,\n",
    "        target=target_scaled,\n",
    "        number_warmup=1000,\n",
    "        number_samples=1000,\n",
    "        number_chains=1,\n",
    "        degrees_seasonality=1,\n",
    "        weekday_seasonality=True,\n",
    "        seasonality_frequency=365,\n",
    "        seed=1)"
   ]
  },
  {
   "cell_type": "code",
   "execution_count": null,
   "metadata": {},
   "outputs": [],
   "source": [
    "#Parameter estimate check\n",
    "\n",
    "plot.plot_media_channel_posteriors(media_mix_model=mmm, channel_names=media_names)"
   ]
  },
  {
   "cell_type": "code",
   "execution_count": null,
   "metadata": {},
   "outputs": [],
   "source": [
    "##Response curve check\n",
    "plot.plot_response_curves(media_mix_model=mmm, media_scaler=media_scaler, target_scaler=target_scaler)"
   ]
  },
  {
   "cell_type": "code",
   "execution_count": null,
   "metadata": {},
   "outputs": [],
   "source": [
    "media_effect_hat, roi_hat = mmm.get_posterior_metrics()"
   ]
  },
  {
   "cell_type": "code",
   "execution_count": null,
   "metadata": {},
   "outputs": [],
   "source": [
    "#Check ROI\n",
    "plot.plot_bars_media_metrics(metric=roi_hat, channel_names=media_names)"
   ]
  },
  {
   "cell_type": "code",
   "execution_count": null,
   "metadata": {},
   "outputs": [],
   "source": [
    "##Run budget optimizer\n",
    "prices = costs/media_data_raw.sum(axis=0)\n",
    "budget = 100 # your budget here\n",
    "solution = optimize_media.find_optimal_budgets(\n",
    "    n_time_periods=5,\n",
    "    media_mix_model=mmm,\n",
    "    extra_features=organic_data_scaled[-5:, :],\n",
    "    budget=budget,\n",
    "    prices=prices.values)"
   ]
  },
  {
   "cell_type": "code",
   "execution_count": null,
   "metadata": {},
   "outputs": [],
   "source": [
    "##Save the model\n",
    "utils.save_model(mmm, file_path='file_path')"
   ]
  },
  {
   "cell_type": "code",
   "execution_count": null,
   "metadata": {},
   "outputs": [],
   "source": [
    "##Load model\n",
    "utils.load_model(file_path: 'file_path')"
   ]
  }
 ],
 "metadata": {
  "kernelspec": {
   "display_name": "Python 3",
   "language": "python",
   "name": "python3"
  },
  "language_info": {
   "codemirror_mode": {
    "name": "ipython",
    "version": 3
   },
   "file_extension": ".py",
   "mimetype": "text/x-python",
   "name": "python",
   "nbconvert_exporter": "python",
   "pygments_lexer": "ipython3",
   "version": "3.10.9"
  },
  "orig_nbformat": 4
 },
 "nbformat": 4,
 "nbformat_minor": 2
}
